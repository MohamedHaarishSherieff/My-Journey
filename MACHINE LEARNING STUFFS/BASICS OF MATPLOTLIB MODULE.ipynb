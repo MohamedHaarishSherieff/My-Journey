{
 "cells": [
  {
   "cell_type": "code",
   "execution_count": 1,
   "id": "fc69f718",
   "metadata": {},
   "outputs": [],
   "source": [
    "import pandas as pd\n",
    "import matplotlib.pyplot as plt\n",
    "medals=pd.read_csv('medals_by_countries_2017.csv',index_col=0)"
   ]
  },
  {
   "cell_type": "code",
   "execution_count": 2,
   "id": "a09abd12",
   "metadata": {},
   "outputs": [
    {
     "name": "stderr",
     "output_type": "stream",
     "text": [
      "<ipython-input-2-203bf4e212ba>:5: UserWarning: FixedFormatter should only be used together with FixedLocator\n",
      "  ax.set_xticklabels(medals.index,rotation=90)\n"
     ]
    },
    {
     "data": {
      "text/plain": [
       "<function matplotlib.pyplot.show(close=None, block=None)>"
      ]
     },
     "execution_count": 2,
     "metadata": {},
     "output_type": "execute_result"
    },
    {
     "data": {
      "image/png": "[encoded data removed]",
      "text/plain": [
       "<Figure size 432x288 with 1 Axes>"
      ]
     },
     "metadata": {
      "needs_background": "light"
     },
     "output_type": "display_data"
    }
   ],
   "source": [
    "fig,ax=plt.subplots()\n",
    "ax.bar(medals.index,medals[\"gold\"],color='Gold',label='Gold')\n",
    "ax.bar(medals.index,medals[\"silver\"],color='Silver',label='Silver')\n",
    "ax.bar(medals.index,medals[\"bronze\"],color='green',label='bronze')\n",
    "ax.set_xticklabels(medals.index,rotation=90)\n",
    "ax.set_ylabel(\"number of medals\")\n",
    "ax.legend()\n",
    "plt.show"
   ]
  },
  {
   "cell_type": "code",
   "execution_count": 6,
   "id": "e7c616cb",
   "metadata": {},
   "outputs": [
    {
     "name": "stderr",
     "output_type": "stream",
     "text": [
      "<ipython-input-6-144874ab3e84>:1: MatplotlibDeprecationWarning: savefig() got unexpected keyword argument \"Dpi\" which is no longer supported as of 3.3 and will become an error two minor releases later\n",
      "  fig.savefig(\"savefile.png\",Dpi=300)\n"
     ]
    }
   ],
   "source": [
    "fig.savefig(\"savefile.png\",Dpi=300)"
   ]
  },
  {
   "cell_type": "code",
   "execution_count": 7,
   "id": "ecb038c3",
   "metadata": {},
   "outputs": [
    {
     "name": "stdout",
     "output_type": "stream",
     "text": [
      "[137  47  64  50  44  20  23   8   4  17]\n"
     ]
    }
   ],
   "source": [
    "trophies=medals[\"gold\"].unique()\n",
    "print(trophies)"
   ]
  },
  {
   "cell_type": "code",
   "execution_count": null,
   "id": "ff7607e3",
   "metadata": {},
   "outputs": [],
   "source": []
  }
 ],
 "metadata": {
  "kernelspec": {
   "display_name": "Python 3",
   "language": "python",
   "name": "python3"
  },
  "language_info": {
   "codemirror_mode": {
    "name": "ipython",
    "version": 3
   },
   "file_extension": ".py",
   "mimetype": "text/x-python",
   "name": "python",
   "nbconvert_exporter": "python",
   "pygments_lexer": "ipython3",
   "version": "3.8.8"
  }
 },
 "nbformat": 4,
 "nbformat_minor": 5
}
